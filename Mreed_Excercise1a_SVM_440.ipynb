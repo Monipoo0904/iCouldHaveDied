{
  "nbformat": 4,
  "nbformat_minor": 0,
  "metadata": {
    "colab": {
      "provenance": [],
      "include_colab_link": true
    },
    "kernelspec": {
      "name": "python3",
      "display_name": "Python 3"
    },
    "language_info": {
      "name": "python"
    }
  },
  "cells": [
    {
      "cell_type": "markdown",
      "metadata": {
        "id": "view-in-github",
        "colab_type": "text"
      },
      "source": [
        "<a href=\"https://colab.research.google.com/github/Monipoo0904/iCouldHaveDied/blob/main/Mreed_Excercise1a_SVM_440.ipynb\" target=\"_parent\"><img src=\"https://colab.research.google.com/assets/colab-badge.svg\" alt=\"Open In Colab\"/></a>"
      ]
    },
    {
      "cell_type": "code",
      "metadata": {
        "colab": {
          "base_uri": "https://localhost:8080/"
        },
        "id": "uW76pPxuXJ6V",
        "outputId": "9ea5a4f9-d07c-417e-f2a5-b8d0db5e93ec"
      },
      "source": [
        "from sklearn.datasets import fetch_openml\n",
        "#load mice protein dataset from OpenML\n",
        "mice = fetch_openml(name='miceprotein', version=4, as_frame=True)\n",
        "list(mice.frame.columns)\n",
        "print(mice.details)\n",
        "mice.frame.describe()\n",
        "\n",
        "\n",
        "# Import required libraries\n",
        "import numpy as np\n",
        "import sklearn\n",
        "from sklearn.neural_network import MLPClassifier\n",
        "\n",
        "\n",
        "# Import model to divide data into training and testing sets\n",
        "from sklearn.model_selection import train_test_split\n",
        "\n",
        "\n",
        "target_column = ['class']\n",
        "#derive the list of predictor column id's\n",
        "predictors = list(set(list(mice.frame.columns))-set(target_column))\n",
        "#standardize the predictors by dividing by the maximum\n",
        "mice.frame[predictors] = mice.frame[predictors]/mice.frame[predictors].max()\n",
        "#provide summary statistics for the dataframe\n",
        "mice.frame.describe().transpose()\n",
        "\n",
        "#Get rid of any rows with NA's\n",
        "mice.frame = mice.frame.dropna()\n",
        "\n",
        "#the input data\n",
        "X = mice.frame[predictors].values\n",
        "#the output data\n",
        "y = mice.frame[target_column].values\n",
        "\n",
        "#we encode target classes from strings to numbers as neural networks cannot require all numerical inputs and outputs\n",
        "from sklearn.preprocessing import LabelEncoder\n",
        "le = LabelEncoder()\n",
        "y = le.fit_transform(y)\n",
        "\n",
        "#divide data into training and test sets\n",
        "X_train, X_test, y_train, y_test = train_test_split(X, y, test_size=0.30)\n",
        "print(X_train.shape); print(X_test.shape)\n",
        "\n",
        "from sklearn import svm\n",
        "\n",
        "svm_model = svm.SVC(decision_function_shape='ovo')\n",
        "svm_model.fit(X_train, y_train)\n",
        "\n",
        "#We predict the training set\n",
        "predict_train = svm_model.predict(X_train)\n",
        "#we predict the test set\n",
        "predict_test = svm_model.predict(X_test)\n",
        "\n",
        "from sklearn.metrics import classification_report,confusion_matrix\n",
        "\n",
        "print('Training accuracy')\n",
        "#we report the confusion matrix for the training set\n",
        "print(confusion_matrix(y_train,predict_train))\n",
        "#we report various accuracy statistics for the training set\n",
        "print(classification_report(y_train,predict_train))\n",
        "\n",
        "print('Testing accuracy')\n",
        "#we report the confusion matrix for the test set\n",
        "print(confusion_matrix(y_test,predict_test))\n",
        "#we report various accuracy statistics for the test set\n",
        "print(classification_report(y_test,predict_test))\n",
        "\n"
      ],
      "execution_count": null,
      "outputs": [
        {
          "output_type": "stream",
          "name": "stdout",
          "text": [
            "{'id': '40966', 'name': 'MiceProtein', 'version': '4', 'description_version': '1', 'format': 'ARFF', 'upload_date': '2017-11-08T16:00:15', 'licence': 'Public', 'url': 'https://api.openml.org/data/v1/download/17928620/MiceProtein.arff', 'parquet_url': 'https://data.openml.org/datasets/0004/40966/dataset_40966.pq', 'file_id': '17928620', 'default_target_attribute': 'class', 'row_id_attribute': 'MouseID', 'ignore_attribute': ['Genotype', 'Treatment', 'Behavior'], 'tag': ['Biology', 'Data Science', 'Health', 'OpenML-CC18', 'Research', 'study_135', 'study_98', 'study_99'], 'visibility': 'public', 'minio_url': 'https://data.openml.org/datasets/0004/40966/dataset_40966.pq', 'status': 'active', 'processing_date': '2018-10-04 00:49:58', 'md5_checksum': '3c479a6885bfa0438971388283a1ce32'}\n",
            "(386, 77)\n",
            "(166, 77)\n",
            "Training accuracy\n",
            "[[28  0  0  0  0  0  0  0]\n",
            " [ 0 54  0  0  0  0  0  0]\n",
            " [ 0  0 43  0  0  0  0  0]\n",
            " [ 0  0  0 49  0  0  0  0]\n",
            " [ 0  0  0  0 63  0  0  0]\n",
            " [ 0  0  0  0  0 57  0  0]\n",
            " [ 0  0  2  0  0  0 43  0]\n",
            " [ 0  0  0  0  0  0  0 47]]\n",
            "              precision    recall  f1-score   support\n",
            "\n",
            "           0       1.00      1.00      1.00        28\n",
            "           1       1.00      1.00      1.00        54\n",
            "           2       0.96      1.00      0.98        43\n",
            "           3       1.00      1.00      1.00        49\n",
            "           4       1.00      1.00      1.00        63\n",
            "           5       1.00      1.00      1.00        57\n",
            "           6       1.00      0.96      0.98        45\n",
            "           7       1.00      1.00      1.00        47\n",
            "\n",
            "    accuracy                           0.99       386\n",
            "   macro avg       0.99      0.99      0.99       386\n",
            "weighted avg       1.00      0.99      0.99       386\n",
            "\n",
            "Testing accuracy\n",
            "[[14  2  0  0  1  0  0  0]\n",
            " [ 0 21  0  0  0  0  0  0]\n",
            " [ 0  0 17  0  0  0  0  0]\n",
            " [ 0  0  0 26  0  0  0  0]\n",
            " [ 0  1  0  0 26  0  0  0]\n",
            " [ 0  0  0  0  0 18  0  0]\n",
            " [ 0  0  1  0  0  0 14  0]\n",
            " [ 0  0  0  0  0  0  0 25]]\n",
            "              precision    recall  f1-score   support\n",
            "\n",
            "           0       1.00      0.82      0.90        17\n",
            "           1       0.88      1.00      0.93        21\n",
            "           2       0.94      1.00      0.97        17\n",
            "           3       1.00      1.00      1.00        26\n",
            "           4       0.96      0.96      0.96        27\n",
            "           5       1.00      1.00      1.00        18\n",
            "           6       1.00      0.93      0.97        15\n",
            "           7       1.00      1.00      1.00        25\n",
            "\n",
            "    accuracy                           0.97       166\n",
            "   macro avg       0.97      0.96      0.97       166\n",
            "weighted avg       0.97      0.97      0.97       166\n",
            "\n"
          ]
        },
        {
          "output_type": "stream",
          "name": "stderr",
          "text": [
            "/usr/local/lib/python3.11/dist-packages/sklearn/preprocessing/_label.py:110: DataConversionWarning: A column-vector y was passed when a 1d array was expected. Please change the shape of y to (n_samples, ), for example using ravel().\n",
            "  y = column_or_1d(y, warn=True)\n"
          ]
        }
      ]
    }
  ]
}