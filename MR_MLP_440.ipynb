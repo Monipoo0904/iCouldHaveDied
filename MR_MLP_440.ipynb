{
  "nbformat": 4,
  "nbformat_minor": 0,
  "metadata": {
    "colab": {
      "provenance": [],
      "include_colab_link": true
    },
    "kernelspec": {
      "name": "python3",
      "display_name": "Python 3"
    },
    "language_info": {
      "name": "python"
    }
  },
  "cells": [
    {
      "cell_type": "markdown",
      "metadata": {
        "id": "view-in-github",
        "colab_type": "text"
      },
      "source": [
        "<a href=\"https://colab.research.google.com/github/Monipoo0904/iCouldHaveDied/blob/main/MR_MLP_440.ipynb\" target=\"_parent\"><img src=\"https://colab.research.google.com/assets/colab-badge.svg\" alt=\"Open In Colab\"/></a>"
      ]
    },
    {
      "cell_type": "code",
      "metadata": {
        "colab": {
          "base_uri": "https://localhost:8080/"
        },
        "id": "6NRTNxKU21yt",
        "outputId": "d6b30b5f-b125-4560-aac7-9ff034a0cc06"
      },
      "source": [
        "\n",
        "\n",
        "\n",
        "from sklearn.datasets import fetch_openml\n",
        "#load mice protein dataset from OpenML\n",
        "mice = fetch_openml(name='miceprotein', version=4, as_frame=True)\n",
        "list(mice.frame.columns)\n",
        "#print(mice.details)\n",
        "#mice.frame.describe()\n",
        "\n",
        "\n",
        "# Import required libraries\n",
        "import numpy as np\n",
        "import sklearn\n",
        "from sklearn.neural_network import MLPClassifier\n",
        "\n",
        "\n",
        "# Import model to divide data into training and testing sets\n",
        "from sklearn.model_selection import train_test_split\n",
        "\n",
        "\n",
        "target_column = ['class']\n",
        "#derive the list of predictor column id's\n",
        "predictors = list(set(list(mice.frame.columns))-set(target_column))\n",
        "#standardize the predictors by diividing by the maximum\n",
        "mice.frame[predictors] = mice.frame[predictors]/mice.frame[predictors].max()\n",
        "#provide summary statistics for the dataframe\n",
        "mice.frame.describe().transpose()\n",
        "\n",
        "#Get rid of any rown with NA's\n",
        "mice.frame = mice.frame.dropna()\n",
        "\n",
        "#the input data\n",
        "X = mice.frame[predictors].values\n",
        "#the output data\n",
        "y = mice.frame[target_column].values\n",
        "\n",
        "#we encode target classes from strings to numbers as neural networks cannot require all numerical inputs and outputs\n",
        "from sklearn.preprocessing import LabelEncoder\n",
        "le = LabelEncoder()\n",
        "y = le.fit_transform(y)\n",
        "\n",
        "#divide data into training and test sets\n",
        "X_train, X_test, y_train, y_test = train_test_split(X, y, test_size=0.30)\n",
        "print(X_train.shape); print(X_test.shape)\n",
        "\n",
        "#import the neural network (aka multi-layer-perceptron library)\n",
        "from sklearn.neural_network import MLPClassifier\n",
        "\n",
        "#The network architecture will consist of 1 input layer that has as many input nodes as columns-1, 3 hidden layers of 20 nodes each,\n",
        "# and an output layer with a node for each of the categories--and the network will choose the one with the highest score\n",
        "#mlp = MLPClassifier(hidden_layer_sizes=(15,15,15), activation='relu', solver='adam', max_iter=2000)\n",
        "mlp = MLPClassifier(hidden_layer_sizes=(20,20,20), activation='relu', solver='adam', max_iter=5000)\n",
        "#we train the network\n",
        "mlp.fit(X_train,y_train)\n",
        "\n",
        "#We predict the training set\n",
        "predict_train = mlp.predict(X_train)\n",
        "#we predict the test set\n",
        "predict_test = mlp.predict(X_test)\n",
        "\n",
        "from sklearn.metrics import classification_report,confusion_matrix\n",
        "\n",
        "print('Training accuracy')\n",
        "#we report the confusion matrix for the training set\n",
        "print(confusion_matrix(y_train,predict_train))\n",
        "#we report various accuracy statistics for the training set\n",
        "print(classification_report(y_train,predict_train))\n",
        "\n",
        "print('Testing accuracy')\n",
        "#we report the confusion matrix for the test set\n",
        "print(confusion_matrix(y_test,predict_test))\n",
        "#we report various accuracy statistics for the test set\n",
        "print(classification_report(y_test,predict_test))\n",
        "\n",
        "#Now rerun but above change the network architecture to\n",
        "mlp = MLPClassifier(hidden_layer_sizes=(20,20,20), activation='relu', solver='adam', max_iter=5000)\n"
      ],
      "execution_count": null,
      "outputs": [
        {
          "output_type": "stream",
          "name": "stderr",
          "text": [
            "/usr/local/lib/python3.11/dist-packages/sklearn/preprocessing/_label.py:110: DataConversionWarning: A column-vector y was passed when a 1d array was expected. Please change the shape of y to (n_samples, ), for example using ravel().\n",
            "  y = column_or_1d(y, warn=True)\n"
          ]
        },
        {
          "output_type": "stream",
          "name": "stdout",
          "text": [
            "(386, 77)\n",
            "(166, 77)\n",
            "Training accuracy\n",
            "[[31  0  0  0  0  0  0  0]\n",
            " [ 0 56  0  0  0  0  0  0]\n",
            " [ 0  0 38  0  0  0  0  0]\n",
            " [ 0  0  0 54  0  0  0  0]\n",
            " [ 0  0  0  0 67  0  0  0]\n",
            " [ 0  0  0  0  0 58  0  0]\n",
            " [ 0  0  0  0  0  0 34  0]\n",
            " [ 0  0  0  0  0  0  0 48]]\n",
            "              precision    recall  f1-score   support\n",
            "\n",
            "           0       1.00      1.00      1.00        31\n",
            "           1       1.00      1.00      1.00        56\n",
            "           2       1.00      1.00      1.00        38\n",
            "           3       1.00      1.00      1.00        54\n",
            "           4       1.00      1.00      1.00        67\n",
            "           5       1.00      1.00      1.00        58\n",
            "           6       1.00      1.00      1.00        34\n",
            "           7       1.00      1.00      1.00        48\n",
            "\n",
            "    accuracy                           1.00       386\n",
            "   macro avg       1.00      1.00      1.00       386\n",
            "weighted avg       1.00      1.00      1.00       386\n",
            "\n",
            "Testing accuracy\n",
            "[[14  0  0  0  0  0  0  0]\n",
            " [ 0 19  0  0  0  0  0  0]\n",
            " [ 0  0 22  0  0  0  0  0]\n",
            " [ 0  0  0 21  0  0  0  0]\n",
            " [ 0  0  0  0 23  0  0  0]\n",
            " [ 0  0  0  0  0 17  0  0]\n",
            " [ 0  0  0  0  0  0 26  0]\n",
            " [ 0  0  0  0  0  0  0 24]]\n",
            "              precision    recall  f1-score   support\n",
            "\n",
            "           0       1.00      1.00      1.00        14\n",
            "           1       1.00      1.00      1.00        19\n",
            "           2       1.00      1.00      1.00        22\n",
            "           3       1.00      1.00      1.00        21\n",
            "           4       1.00      1.00      1.00        23\n",
            "           5       1.00      1.00      1.00        17\n",
            "           6       1.00      1.00      1.00        26\n",
            "           7       1.00      1.00      1.00        24\n",
            "\n",
            "    accuracy                           1.00       166\n",
            "   macro avg       1.00      1.00      1.00       166\n",
            "weighted avg       1.00      1.00      1.00       166\n",
            "\n"
          ]
        }
      ]
    }
  ]
}